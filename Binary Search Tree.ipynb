{
 "cells": [
  {
   "cell_type": "code",
   "execution_count": 2,
   "metadata": {},
   "outputs": [],
   "source": [
    "class BinaryTree(object):\n",
    "    \n",
    "    def __init__(self,rootObj):\n",
    "        self.key = rootObj\n",
    "        self.leftchild = None\n",
    "        self.rightchild = None\n",
    "    \n",
    "    def insertLeft(self,newNode):\n",
    "        if self.leftchild == None:\n",
    "            self.leftchild = BinaryTree(newNode)\n",
    "        else:\n",
    "            t = BinaryTree(newNode)\n",
    "            t.leftchild = self.leftchild\n",
    "            self.leftchild = t\n",
    "    \n",
    "    def insertRight(newNode):\n",
    "        if self.rightchild == None:\n",
    "            self.rightchild = BinaryTree(newNode)\n",
    "            \n",
    "        else:\n",
    "            t = BinaryTree(newNode)\n",
    "            t.rightchild = self.rightchild\n",
    "            self.rightchild = t\n",
    "    \n",
    "    def getLeftchild(self):\n",
    "        return self.leftchild\n",
    "    \n",
    "    def getRightchild(self):\n",
    "        return self.rightchild\n",
    "    \n",
    "    def setRootVal(self,obj):\n",
    "        self.key = obj\n",
    "    \n",
    "    def getRootVal(self):\n",
    "        return self.key"
   ]
  },
  {
   "cell_type": "code",
   "execution_count": null,
   "metadata": {
    "collapsed": true
   },
   "outputs": [],
   "source": []
  }
 ],
 "metadata": {
  "kernelspec": {
   "display_name": "Python 3",
   "language": "python",
   "name": "python3"
  },
  "language_info": {
   "codemirror_mode": {
    "name": "ipython",
    "version": 3
   },
   "file_extension": ".py",
   "mimetype": "text/x-python",
   "name": "python",
   "nbconvert_exporter": "python",
   "pygments_lexer": "ipython3",
   "version": "3.6.3"
  }
 },
 "nbformat": 4,
 "nbformat_minor": 2
}
